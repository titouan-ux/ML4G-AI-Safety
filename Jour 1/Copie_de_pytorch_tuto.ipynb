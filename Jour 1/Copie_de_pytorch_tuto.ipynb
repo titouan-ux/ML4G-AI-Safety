{
  "cells": [
    {
      "cell_type": "markdown",
      "metadata": {
        "id": "2FWrcFTf3sAA"
      },
      "source": [
        "# Approximate the sine function with a polynomial of degree 3\n",
        "\n",
        "In this notebook, we will be gradually moving up in the abstraction ladder:\n",
        "- 1. Bare Numpy (You need to compute the gradient by hand)\n",
        "- 2. Bare Pytorch (You still need to compute the gradient by hand)\n",
        "- 3. Autograd (Here you do not need to compute the gradient by hand anymore)\n",
        "- 4. torch.nn (Using the nn Abstraction in pytorch)\n",
        "- 5. Optimizer Abstraction (Finally, we don't even need to iterate on the parameters to update them)\n",
        "\n",
        "Si vous avez des difficultés, aidez vous de la solution: https://pytorch.org/tutorials/beginner/pytorch_with_examples.html\n",
        "\n",
        "## Tensors\n",
        "### Warm-up: numpy\n",
        "Before introducing PyTorch, we will first implement the network using numpy.\n",
        "\n",
        "Numpy provides an n-dimensional array object, and many functions for manipulating these arrays. Numpy is a generic framework for scientific computing; it does not know anything about computation graphs, or deep learning, or gradients. However we can easily use numpy to fit a third order polynomial to sine function by manually implementing the forward and backward passes through the network using numpy operations:"
      ]
    },
    {
      "cell_type": "markdown",
      "metadata": {
        "id": "UpWDIuzG3sAJ"
      },
      "source": [
        "If you are not familiar with numpy, you can read this cheat sheet: https://www.datacamp.com/cheat-sheet/numpy-cheat-sheet-data-analysis-in-python"
      ]
    },
    {
      "cell_type": "code",
      "execution_count": 31,
      "metadata": {
        "id": "5C-W6PIP3sAO",
        "outputId": "5a00bffc-338f-4301-8d47-0824167f7127"
      },
      "outputs": [
        {
          "name": "stdout",
          "output_type": "stream",
          "text": [
            "99 0.4830546626710792\n",
            "199 0.3223882119704441\n",
            "299 0.21571745971883607\n",
            "399 0.14487596107608497\n",
            "499 0.09781585982865902\n",
            "599 0.0665444027426076\n",
            "699 0.04575790636673072\n",
            "799 0.03193623602779054\n",
            "899 0.02274245093070649\n",
            "999 0.016624702020904138\n",
            "1099 0.012552196184679967\n",
            "1199 0.009840043000670953\n",
            "1299 0.008033038674134593\n",
            "1399 0.006828537950571902\n",
            "1499 0.0060252548774488235\n",
            "1599 0.005489266988080164\n",
            "1699 0.005131436271489439\n",
            "1799 0.004892408521744487\n",
            "1899 0.004732644433483209\n",
            "1999 0.004625792476606772\n",
            "Result: y = -0.009995518990687326 + 0.8748029667031766 x + 0.0017243933520475034 x^2 + -0.0958995688405235 x^3\n"
          ]
        },
        {
          "data": {
            "image/png": "[encoded data removed]",
            "text/plain": [
              "<Figure size 432x288 with 1 Axes>"
            ]
          },
          "metadata": {
            "needs_background": "light"
          },
          "output_type": "display_data"
        }
      ],
      "source": [
        "from statistics import mean\n",
        "import numpy as np\n",
        "import math\n",
        "import matplotlib.pyplot as plt\n",
        "\n",
        "# Create random input and output data\n",
        "x = np.linspace(-math.pi, math.pi, 2000)\n",
        "y = np.sin(x)\n",
        "\n",
        "# Randomly initialize weights\n",
        "a = np.random.randn()\n",
        "b = np.random.randn()\n",
        "c = np.random.randn()\n",
        "d = np.random.randn()\n",
        "\n",
        "learning_rate = 1e-6\n",
        "epochs = 2000\n",
        "for t in range(epochs):\n",
        "    # Forward pass: compute predicted y\n",
        "    # y = a + b x + c x^2 + d x^3\n",
        "    y_pred = a+b*x+c*x**2+d*x**3\n",
        "\n",
        "    # Compute and print loss (Mean squared Error)\n",
        "    loss = np.square(y_pred - y).mean()\n",
        "    if t % 100 == 99:\n",
        "        print(t, loss)\n",
        "\n",
        "    # compute the gradients of the loss wrt a, b, c, d\n",
        "    grad_a =2*(y_pred-y)\n",
        "    grad_b = (grad_a*x)\n",
        "    grad_c = (grad_a*x**2)\n",
        "    grad_d = (grad_a*x**3)\n",
        "\n",
        "    # Update weights\n",
        "    a = a-learning_rate*grad_a.sum()\n",
        "    b = b-learning_rate*grad_b.sum()\n",
        "    c = c-learning_rate*grad_c.sum()\n",
        "    d = d-learning_rate*grad_d.sum()\n",
        "\n",
        "print(f'Result: y = {a} + {b} x + {c} x^2 + {d} x^3')\n",
        "\n",
        "prediction = a+b*x+c*x**2+d*x**3\n",
        "plt.plot(x,y,'r')\n",
        "plt.plot(x,prediction,'b')\n",
        "plt.show()"
      ]
    },
    {
      "cell_type": "markdown",
      "metadata": {
        "id": "xg5fRGsu3sAY"
      },
      "source": [
        "Interpreter les resultats. Si les resultats sont corrects, passer à l'exercice suivant."
      ]
    },
    {
      "cell_type": "markdown",
      "metadata": {
        "id": "TR-pDuCY3sAb"
      },
      "source": [
        "### PyTorch: Tensors\n",
        "Numpy is a great framework, but it cannot utilize GPUs to accelerate its numerical computations. For modern deep neural networks, GPUs often provide speedups of 50x or greater, so unfortunately numpy won’t be enough for modern deep learning.\n",
        "\n",
        "Here we introduce the most fundamental PyTorch concept: the Tensor. A PyTorch Tensor is conceptually identical to a numpy array: a Tensor is an n-dimensional array, and PyTorch provides many functions for operating on these Tensors. Behind the scenes, Tensors can keep track of a computational graph and gradients, but they’re also useful as a generic tool for scientific computing.\n",
        "\n",
        "Also unlike numpy, PyTorch Tensors can utilize GPUs to accelerate their numeric computations. To run a PyTorch Tensor on GPU, you simply need to specify the correct device.\n",
        "\n",
        "Here we use PyTorch Tensors to fit a third order polynomial to sine function. Like the numpy example above we need to manually implement the forward and backward passes through the network:"
      ]
    },
    {
      "cell_type": "markdown",
      "metadata": {
        "id": "bNPdCt1p3sAg"
      },
      "source": [
        "Vous pouvez checker la pytorch cheat cheet pour se remettre dans le bain : https://pytorch.org/tutorials/beginner/ptcheat.html"
      ]
    },
    {
      "cell_type": "markdown",
      "metadata": {
        "id": "tr0332RW3sAq"
      },
      "source": [
        "## Autograd\n",
        "### PyTorch: Tensors and autograd\n",
        "In the above examples, we had to manually implement both the forward and backward passes of our neural network. Manually implementing the backward pass is not a big deal for a small two-layer network, but can quickly get very hairy for large complex networks.\n",
        "\n",
        "Thankfully, we can use automatic differentiation to automate the computation of backward passes in neural networks. The autograd package in PyTorch provides exactly this functionality. When using autograd, the forward pass of your network will define a computational graph; nodes in the graph will be Tensors, and edges will be functions that produce output Tensors from input Tensors. Backpropagating through this graph then allows you to easily compute gradients.\n",
        "\n",
        "This sounds complicated, it’s pretty simple to use in practice. Each Tensor represents a node in a computational graph. If x is a Tensor that has x.requires_grad=True then x.grad is another Tensor holding the gradient of x with respect to some scalar value.\n",
        "\n",
        "Here we use PyTorch Tensors and autograd to implement our fitting sine wave with third order polynomial example; now we no longer need to manually implement the backward pass through the network:"
      ]
    },
    {
      "cell_type": "code",
      "execution_count": 39,
      "metadata": {
        "id": "dHkWtqaa3sAt",
        "outputId": "b0a969bf-8338-47e4-b7e6-c12a2e478c45"
      },
      "outputs": [
        {
          "name": "stdout",
          "output_type": "stream",
          "text": [
            "99 0.2975912392139435\n",
            "199 0.24323691427707672\n",
            "299 0.20021004974842072\n",
            "399 0.16496896743774414\n",
            "499 0.13609880208969116\n",
            "599 0.11244327574968338\n",
            "699 0.09305650740861893\n",
            "799 0.07716507464647293\n",
            "899 0.06413598358631134\n",
            "999 0.0534515343606472\n",
            "1099 0.04468784108757973\n",
            "1199 0.03749801591038704\n",
            "1299 0.03159814700484276\n",
            "1399 0.02675570547580719\n",
            "1499 0.02278031036257744\n",
            "1599 0.019515851512551308\n",
            "1699 0.016834590584039688\n",
            "1799 0.014631849713623524\n",
            "1899 0.01282172929495573\n",
            "1999 0.011333948001265526\n",
            "Result: y = 0.07491590827703476 + 0.7651971578598022 x + -0.01292424276471138 x^2 + -0.08030910044908524 x^3\n"
          ]
        },
        {
          "data": {
            "image/png": "[encoded data removed]",
            "text/plain": [
              "<Figure size 432x288 with 1 Axes>"
            ]
          },
          "metadata": {
            "needs_background": "light"
          },
          "output_type": "display_data"
        }
      ],
      "source": [
        "# Here You must use AUTOGRAD, ie, no need to calculate by hand the gradient.\n",
        "import torch\n",
        "import math\n",
        "\n",
        "dtype = torch.float\n",
        "device = torch.device(\"cpu\")\n",
        "# device = torch.device(\"cuda:0\")  # Uncomment this to run on GPU\n",
        "\n",
        "# Create Tensors to hold input and outputs.\n",
        "# By default, requires_grad=False, which indicates that we do not need to\n",
        "# compute gradients with respect to these Tensors during the backward pass.\n",
        "x = torch.linspace(-math.pi, math.pi, 2000, device=device, dtype=dtype)\n",
        "y = torch.sin(x)\n",
        "\n",
        "# Create random Tensors for weights. For a third order polynomial, we need\n",
        "# 4 weights: y = a + b x + c x^2 + d x^3\n",
        "# Setting requires_grad=True indicates that we want to compute gradients with\n",
        "# respect to these Tensors during the backward pass.\n",
        "a = torch.randn((), device=device, dtype=dtype, requires_grad=True)\n",
        "b = torch.randn((), device=device, dtype=dtype, requires_grad=True)\n",
        "c = torch.randn((), device=device, dtype=dtype, requires_grad=True)\n",
        "d = torch.randn((), device=device, dtype=dtype, requires_grad=True)\n",
        "\n",
        "learning_rate = 1e-3\n",
        "for t in range(epochs):\n",
        "    # Forward pass: compute predicted y using operations on Tensors. (same as above)\n",
        "    y_pred = a+b*x+c*x**2+d*x**3\n",
        "\n",
        "    # Compute and print loss using operations on Tensors.\n",
        "    # Now loss is a Tensor of shape (1,)\n",
        "    # loss.item() gets the scalar value held in the loss.\n",
        "    loss = (y_pred - y).pow(2).mean()\n",
        "    if t % 100 == 99:\n",
        "        print(t, loss.item())\n",
        "\n",
        "    # Use autograd to compute the backward pass. This call will compute the\n",
        "    # gradient of loss with respect to all Tensors with requires_grad=True.\n",
        "    # After this call a.grad, b.grad. c.grad and d.grad will be Tensors holding\n",
        "    # the gradient of the loss with respect to a, b, c, d respectively.\n",
        "    loss.backward()\n",
        "\n",
        "    # Manually update weights using gradient descent. Wrap in torch.no_grad()\n",
        "    # because weights have requires_grad=True, but we don't need to track this\n",
        "    # in autograd.\n",
        "    with torch.no_grad():\n",
        "        a -= torch.mean(a.grad)*learning_rate\n",
        "        b -= torch.mean(b.grad)*learning_rate\n",
        "        c -= torch.mean(c.grad)*learning_rate\n",
        "        d -= torch.mean(d.grad)*learning_rate\n",
        "\n",
        "        # Manually zero the gradients after updating weights\n",
        "        a.grad = None\n",
        "        b.grad = None\n",
        "        c.grad = None\n",
        "        d.grad = None\n",
        "\n",
        "print(f'Result: y = {a.item()} + {b.item()} x + {c.item()} x^2 + {d.item()} x^3')\n",
        "\n",
        "prediction = a.item()+b.item()*x+c.item()*x**2+d.item()*x**3\n",
        "plt.plot(x,y,'r')\n",
        "plt.plot(x,prediction,'b')\n",
        "plt.show()"
      ]
    },
    {
      "cell_type": "markdown",
      "metadata": {
        "id": "FpqVQiEn3sAz"
      },
      "source": [
        "## nn module\n",
        "### PyTorch: nn\n",
        "Computational graphs and autograd are a very powerful paradigm for defining complex operators and automatically taking derivatives; however for large neural networks raw autograd can be a bit too low-level.\n",
        "\n",
        "When building neural networks we frequently think of arranging the computation into layers, some of which have learnable parameters which will be optimized during learning.\n",
        "\n",
        "In TensorFlow, packages like Keras, TensorFlow-Slim, and TFLearn provide higher-level abstractions over raw computational graphs that are useful for building neural networks.\n",
        "\n",
        "In PyTorch, the nn package serves this same purpose. The nn package defines a set of Modules, which are roughly equivalent to neural network layers. A Module receives input Tensors and computes output Tensors, but may also hold internal state such as Tensors containing learnable parameters. The nn package also defines a set of useful loss functions that are commonly used when training neural networks.\n",
        "\n",
        "In this example we use the nn package to implement our polynomial model network:"
      ]
    },
    {
      "cell_type": "code",
      "execution_count": 46,
      "metadata": {
        "id": "b77-eRLx3sA3",
        "outputId": "9c6181c5-db16-4c19-8320-c61b7d6f9dc3"
      },
      "outputs": [
        {
          "name": "stdout",
          "output_type": "stream",
          "text": [
            "99 856.7481079101562\n",
            "199 572.91845703125\n",
            "299 384.2403259277344\n",
            "399 258.77191162109375\n",
            "499 175.30706787109375\n",
            "599 119.76307678222656\n",
            "699 82.78483581542969\n",
            "799 58.15622329711914\n",
            "899 41.74535369873047\n",
            "999 30.805204391479492\n",
            "1099 23.508378982543945\n",
            "1199 18.638940811157227\n",
            "1299 15.38774299621582\n",
            "1399 13.215694427490234\n",
            "1499 11.763723373413086\n",
            "1599 10.792488098144531\n",
            "1699 10.142382621765137\n",
            "1799 9.706948280334473\n",
            "1899 9.41507339477539\n",
            "1999 9.219286918640137\n",
            "Result: y = 0.010736803524196148 + 0.8399254679679871 x + -0.0018522776663303375 x^2 + -0.09093854576349258 x^3\n"
          ]
        },
        {
          "data": {
            "image/png": "[encoded data removed]",
            "text/plain": [
              "<Figure size 432x288 with 1 Axes>"
            ]
          },
          "metadata": {
            "needs_background": "light"
          },
          "output_type": "display_data"
        }
      ],
      "source": [
        "# Complete the ??? and the ...\n",
        "import torch\n",
        "import math\n",
        "\n",
        "\n",
        "# Create Tensors to hold input and outputs.\n",
        "x = torch.linspace(-math.pi, math.pi, 2000)\n",
        "y = torch.sin(x)\n",
        "\n",
        "# For this example, the output y is a linear function of (x, x^2, x^3), so\n",
        "# we can consider it as a linear layer neural network. Let's prepare the\n",
        "# tensor (x, x^2, x^3).\n",
        "p = torch.tensor([1, 2, 3])\n",
        "xx = x.unsqueeze(-1).pow(p)                            \n",
        "# In the above code, \n",
        "# x.unsqueeze(-1) has shape  (2000,1)\n",
        "# p has shape (3,) \n",
        "# For this case, broadcasting semantics will apply to obtain a tensor\n",
        "# xx of shape (2000, 3) as required.\n",
        "\n",
        "# Use the nn package to define our model as a sequence of layers. nn.Sequential\n",
        "# is a Module which contains other Modules, and applies them in sequence to\n",
        "# produce its output. The Linear Module computes output from input using a\n",
        "# linear function, and holds internal Tensors for its weight and bias.\n",
        "# The Flatten layer flatens the output of the linear layer to a 1D tensor,\n",
        "# to match the shape of `y`.\n",
        "model = torch.nn.Sequential(\n",
        "    torch.nn.Linear(3, 1),                  \n",
        "    torch.nn.Flatten(0, 1)\n",
        ")\n",
        "\n",
        "# The nn package also contains definitions of popular loss functions; in this\n",
        "# case we will use Mean Squared Error (MSE) as our loss function.\n",
        "loss_fn = torch.nn.MSELoss(reduction='sum')\n",
        "\n",
        "learning_rate = 1e-6\n",
        "for t in range(epochs):\n",
        "\n",
        "    # Forward pass: compute predicted y by passing x to the model. Module objects\n",
        "    # override the __call__ operator so you can call them like functions. When\n",
        "    # doing so you pass a Tensor of input data to the Module and it produces\n",
        "    # a Tensor of output data.\n",
        "    y_pred = model(xx)\n",
        "\n",
        "    # Compute and print loss. We pass Tensors containing the predicted and true\n",
        "    # values of y, and the loss function returns a Tensor containing the\n",
        "    # loss.\n",
        "    loss = loss_fn(y_pred, y)\n",
        "    if t % 100 == 99:\n",
        "        print(t, loss.item())\n",
        "\n",
        "    # Zero the gradients before running the backward pass.\n",
        "    model.zero_grad()\n",
        "\n",
        "    # Backward pass: compute gradient of the loss with respect to all the learnable\n",
        "    # parameters of the model. Internally, the parameters of each Module are stored\n",
        "    # in Tensors with requires_grad=True, so this call will compute gradients for\n",
        "    # all learnable parameters in the model.\n",
        "    loss.backward()\n",
        "\n",
        "    # Update the weights using gradient descent. Each parameter is a Tensor, so\n",
        "    # we can access its gradients like we did before.\n",
        "    with torch.no_grad():\n",
        "        for param in model.parameters():\n",
        "            param -= learning_rate*param.grad\n",
        "\n",
        "# You can access the first layer of `model` like accessing the first item of a list\n",
        "linear_layer = model[0]\n",
        "\n",
        "# For linear layer, its parameters are stored as `weight` and `bias`.\n",
        "print(f'Result: y = {linear_layer.bias.item()} + {linear_layer.weight[:, 0].item()} x + {linear_layer.weight[:, 1].item()} x^2 + {linear_layer.weight[:, 2].item()} x^3')\n",
        "\n",
        "prediction = linear_layer.bias.item()+linear_layer.weight[:, 0].item()*x+linear_layer.weight[:, 1].item()*x**2+linear_layer.weight[:, 2].item()*x**3\n",
        "plt.plot(x,y,'r')\n",
        "plt.plot(x,prediction,'b')\n",
        "plt.show()"
      ]
    },
    {
      "cell_type": "markdown",
      "metadata": {
        "id": "A5jbAeeQ3sA9"
      },
      "source": [
        "## PyTorch: optim\n",
        "Up to this point we have updated the weights of our models by manually mutating the Tensors holding learnable parameters with torch.no_grad(). This is not a huge burden for simple optimization algorithms like stochastic gradient descent, but in practice we often train neural networks using more sophisticated optimizers like AdaGrad, RMSProp, Adam, etc.\n",
        "\n",
        "The optim package in PyTorch abstracts the idea of an optimization algorithm and provides implementations of commonly used optimization algorithms.\n",
        "\n",
        "In this example we will use the nn package to define our model as before, but we will optimize the model using the RMSprop algorithm provided by the optim package:"
      ]
    },
    {
      "cell_type": "code",
      "execution_count": 49,
      "metadata": {
        "id": "2ts0-Htq3sBA"
      },
      "outputs": [
        {
          "name": "stdout",
          "output_type": "stream",
          "text": [
            "99 479.3719787597656\n",
            "199 321.3416748046875\n",
            "299 216.44361877441406\n",
            "399 146.79641723632812\n",
            "499 100.54151153564453\n",
            "599 69.81352233886719\n",
            "699 49.39414978027344\n",
            "799 35.82073211669922\n",
            "899 26.79503631591797\n",
            "999 20.79119300842285\n",
            "1099 16.795917510986328\n",
            "1199 14.136272430419922\n",
            "1299 12.364916801452637\n",
            "1399 11.184722900390625\n",
            "1499 10.397995948791504\n",
            "1599 9.873307228088379\n",
            "1699 9.523210525512695\n",
            "1799 9.289449691772461\n",
            "1899 9.133298873901367\n",
            "1999 9.02891731262207\n",
            "Result: y = -0.006808675825595856 + 0.8440524935722351 x + 0.001174609293229878 x^2 + -0.09152557700872421 x^3\n"
          ]
        },
        {
          "data": {
            "image/png": "[encoded data removed]",
            "text/plain": [
              "<Figure size 432x288 with 1 Axes>"
            ]
          },
          "metadata": {
            "needs_background": "light"
          },
          "output_type": "display_data"
        }
      ],
      "source": [
        "# Complete the ??? and the ...\n",
        "from pickletools import optimize\n",
        "import torch\n",
        "import math\n",
        "\n",
        "\n",
        "# Create Tensors to hold input and outputs.\n",
        "x = torch.linspace(-math.pi, math.pi, 2000)\n",
        "y = torch.sin(x)\n",
        "\n",
        "# For this example, the output y is a linear function of (x, x^2, x^3), so\n",
        "# we can consider it as a linear layer neural network. Let's prepare the\n",
        "# tensor (x, x^2, x^3).\n",
        "p = torch.tensor([1, 2, 3])\n",
        "xx = x.unsqueeze(-1).pow(p)                            \n",
        "# In the above code, \n",
        "# x.unsqueeze(-1) has shape  (2000,1)\n",
        "# p has shape (3,) \n",
        "# For this case, broadcasting semantics will apply to obtain a tensor\n",
        "# xx of shape (2000, 3) as required.\n",
        "\n",
        "# Use the nn package to define our model as a sequence of layers. nn.Sequential\n",
        "# is a Module which contains other Modules, and applies them in sequence to\n",
        "# produce its output. The Linear Module computes output from input using a\n",
        "# linear function, and holds internal Tensors for its weight and bias.\n",
        "# The Flatten layer flatens the output of the linear layer to a 1D tensor,\n",
        "# to match the shape of `y`.\n",
        "model = torch.nn.Sequential(\n",
        "    torch.nn.Linear(3, 1),                  \n",
        "    torch.nn.Flatten(0, 1)\n",
        ")\n",
        "\n",
        "# The nn package also contains definitions of popular loss functions; in this\n",
        "# case we will use Mean Squared Error (MSE) as our loss function.\n",
        "loss_fn = torch.nn.MSELoss(reduction='sum')\n",
        "\n",
        "learning_rate = 1e-6\n",
        "for t in range(epochs):\n",
        "\n",
        "    # Forward pass: compute predicted y by passing x to the model. Module objects\n",
        "    # override the __call__ operator so you can call them like functions. When\n",
        "    # doing so you pass a Tensor of input data to the Module and it produces\n",
        "    # a Tensor of output data.\n",
        "    y_pred = model(xx)\n",
        "\n",
        "    # Compute and print loss. We pass Tensors containing the predicted and true\n",
        "    # values of y, and the loss function returns a Tensor containing the\n",
        "    # loss.\n",
        "    loss = loss_fn(y_pred, y)\n",
        "    if t % 100 == 99:\n",
        "        print(t, loss.item())\n",
        "\n",
        "    # Zero the gradients before running the backward pass.\n",
        "    model.zero_grad()\n",
        "\n",
        "    # Backward pass: compute gradient of the loss with respect to all the learnable\n",
        "    # parameters of the model. Internally, the parameters of each Module are stored\n",
        "    # in Tensors with requires_grad=True, so this call will compute gradients for\n",
        "    # all learnable parameters in the model.\n",
        "    loss.backward()\n",
        "\n",
        "    # Update the weights using gradient descent. Each parameter is a Tensor, so\n",
        "    # we can access its gradients like we did before.\n",
        "    optimizer=torch.optim.SGD(model.parameters(),lr=learning_rate)\n",
        "    optimizer.step()\n",
        "    \n",
        "# You can access the first layer of `model` like accessing the first item of a list\n",
        "linear_layer = model[0]\n",
        "\n",
        "# For linear layer, its parameters are stored as `weight` and `bias`.\n",
        "print(f'Result: y = {linear_layer.bias.item()} + {linear_layer.weight[:, 0].item()} x + {linear_layer.weight[:, 1].item()} x^2 + {linear_layer.weight[:, 2].item()} x^3')\n",
        "\n",
        "prediction = linear_layer.bias.item()+linear_layer.weight[:, 0].item()*x+linear_layer.weight[:, 1].item()*x**2+linear_layer.weight[:, 2].item()*x**3\n",
        "plt.plot(x,y,'r', label='sin(x)')\n",
        "plt.plot(x,prediction,'b',label='prediction')\n",
        "plt.legend()\n",
        "plt.show()"
      ]
    },
    {
      "cell_type": "markdown",
      "metadata": {
        "id": "gSGr2kmD3sBD"
      },
      "source": []
    }
  ],
  "metadata": {
    "colab": {
      "name": "Copie de pytorch_tuto.ipynb",
      "provenance": []
    },
    "kernelspec": {
      "display_name": "Python 3.8.8",
      "language": "python",
      "name": "python3"
    },
    "language_info": {
      "codemirror_mode": {
        "name": "ipython",
        "version": 3
      },
      "file_extension": ".py",
      "mimetype": "text/x-python",
      "name": "python",
      "nbconvert_exporter": "python",
      "pygments_lexer": "ipython3",
      "version": "3.8.8"
    },
    "orig_nbformat": 4,
    "vscode": {
      "interpreter": {
        "hash": "6809ed8a35337f3a27b071f62b35d4692d9130abc381b82b2f84ea8d71c60dfb"
      }
    }
  },
  "nbformat": 4,
  "nbformat_minor": 0
}
